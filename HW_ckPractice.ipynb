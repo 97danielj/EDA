{
 "cells": [
  {
   "cell_type": "markdown",
   "id": "d66e5edf",
   "metadata": {},
   "source": [
    " # 1. 환경설정"
   ]
  },
  {
   "cell_type": "code",
   "execution_count": 3,
   "id": "c65e7ad1",
   "metadata": {},
   "outputs": [],
   "source": [
    "from tensorflow.keras.preprocessing.text import Tokenizer #토큰나이저+벡터화(정수 인덱스)\n",
    "from sklearn.model_selection import train_test_split #데이터를  train/test분할\n",
    "import matplotlib.pyplot as plt #시각화 도구\n",
    "from tensorflow.keras.models import Sequential #학습 모델\n",
    "from tensorflow.keras.layers import Dense, Dropout, Embedding,Dense, LSTM, BatchNormalization\n",
    "from tensorflow.keras.utils import to_categorical #수치화된 벡터를 원핫 인코딩\n",
    "from konlpy.tag import Okt\n",
    "from tensorflow.keras.callbacks import EarlyStopping, ModelCheckpoint\n",
    "from tensorflow.keras.preprocessing.sequence import pad_sequences\n",
    "import re\n",
    "\n",
    "\n"
   ]
  },
  {
   "cell_type": "code",
   "execution_count": 6,
   "id": "9519d52b",
   "metadata": {},
   "outputs": [
    {
     "name": "stdout",
     "output_type": "stream",
     "text": [
      "훈련용 리뷰 개수 : 150000\n",
      "테스트용 리뷰 개수 150000\n"
     ]
    }
   ],
   "source": [
    "import pandas as pd\n",
    "import numpy as np\n",
    "train_data = pd.read_table('ratings_train.txt')[['document','label']]\n",
    "test_data = pd.read_table('ratings_test.txt')[['document','label']]\n",
    "print('훈련용 리뷰 개수 :', len(train_data))\n",
    "print('테스트용 리뷰 개수', len(train_data))\n",
    "\n",
    "                                          "
   ]
  },
  {
   "cell_type": "code",
   "execution_count": 7,
   "id": "3c2b48d4",
   "metadata": {},
   "outputs": [],
   "source": [
    "p_data=test_data"
   ]
  },
  {
   "cell_type": "code",
   "execution_count": 8,
   "id": "dac743fc",
   "metadata": {},
   "outputs": [
    {
     "data": {
      "text/html": [
       "<div>\n",
       "<style scoped>\n",
       "    .dataframe tbody tr th:only-of-type {\n",
       "        vertical-align: middle;\n",
       "    }\n",
       "\n",
       "    .dataframe tbody tr th {\n",
       "        vertical-align: top;\n",
       "    }\n",
       "\n",
       "    .dataframe thead th {\n",
       "        text-align: right;\n",
       "    }\n",
       "</style>\n",
       "<table border=\"1\" class=\"dataframe\">\n",
       "  <thead>\n",
       "    <tr style=\"text-align: right;\">\n",
       "      <th></th>\n",
       "      <th>document</th>\n",
       "      <th>label</th>\n",
       "    </tr>\n",
       "  </thead>\n",
       "  <tbody>\n",
       "    <tr>\n",
       "      <th>0</th>\n",
       "      <td>굳 ㅋ</td>\n",
       "      <td>1</td>\n",
       "    </tr>\n",
       "    <tr>\n",
       "      <th>1</th>\n",
       "      <td>GDNTOPCLASSINTHECLUB</td>\n",
       "      <td>0</td>\n",
       "    </tr>\n",
       "    <tr>\n",
       "      <th>2</th>\n",
       "      <td>뭐야 이 평점들은.... 나쁘진 않지만 10점 짜리는 더더욱 아니잖아</td>\n",
       "      <td>0</td>\n",
       "    </tr>\n",
       "    <tr>\n",
       "      <th>3</th>\n",
       "      <td>지루하지는 않은데 완전 막장임... 돈주고 보기에는....</td>\n",
       "      <td>0</td>\n",
       "    </tr>\n",
       "    <tr>\n",
       "      <th>4</th>\n",
       "      <td>3D만 아니었어도 별 다섯 개 줬을텐데.. 왜 3D로 나와서 제 심기를 불편하게 하죠??</td>\n",
       "      <td>0</td>\n",
       "    </tr>\n",
       "    <tr>\n",
       "      <th>...</th>\n",
       "      <td>...</td>\n",
       "      <td>...</td>\n",
       "    </tr>\n",
       "    <tr>\n",
       "      <th>49995</th>\n",
       "      <td>오랜만에 평점 로긴했네ㅋㅋ 킹왕짱 쌈뽕한 영화를 만났습니다 강렬하게 육쾌함</td>\n",
       "      <td>1</td>\n",
       "    </tr>\n",
       "    <tr>\n",
       "      <th>49996</th>\n",
       "      <td>의지 박약들이나 하는거다 탈영은 일단 주인공 김대희 닮았고 이등병 찐따 OOOO</td>\n",
       "      <td>0</td>\n",
       "    </tr>\n",
       "    <tr>\n",
       "      <th>49997</th>\n",
       "      <td>그림도 좋고 완성도도 높았지만... 보는 내내 불안하게 만든다</td>\n",
       "      <td>0</td>\n",
       "    </tr>\n",
       "    <tr>\n",
       "      <th>49998</th>\n",
       "      <td>절대 봐서는 안 될 영화.. 재미도 없고 기분만 잡치고.. 한 세트장에서 다 해먹네</td>\n",
       "      <td>0</td>\n",
       "    </tr>\n",
       "    <tr>\n",
       "      <th>49999</th>\n",
       "      <td>마무리는 또 왜이래</td>\n",
       "      <td>0</td>\n",
       "    </tr>\n",
       "  </tbody>\n",
       "</table>\n",
       "<p>50000 rows × 2 columns</p>\n",
       "</div>"
      ],
      "text/plain": [
       "                                                document  label\n",
       "0                                                    굳 ㅋ      1\n",
       "1                                   GDNTOPCLASSINTHECLUB      0\n",
       "2                 뭐야 이 평점들은.... 나쁘진 않지만 10점 짜리는 더더욱 아니잖아      0\n",
       "3                       지루하지는 않은데 완전 막장임... 돈주고 보기에는....      0\n",
       "4      3D만 아니었어도 별 다섯 개 줬을텐데.. 왜 3D로 나와서 제 심기를 불편하게 하죠??      0\n",
       "...                                                  ...    ...\n",
       "49995          오랜만에 평점 로긴했네ㅋㅋ 킹왕짱 쌈뽕한 영화를 만났습니다 강렬하게 육쾌함      1\n",
       "49996       의지 박약들이나 하는거다 탈영은 일단 주인공 김대희 닮았고 이등병 찐따 OOOO      0\n",
       "49997                 그림도 좋고 완성도도 높았지만... 보는 내내 불안하게 만든다      0\n",
       "49998     절대 봐서는 안 될 영화.. 재미도 없고 기분만 잡치고.. 한 세트장에서 다 해먹네      0\n",
       "49999                                         마무리는 또 왜이래      0\n",
       "\n",
       "[50000 rows x 2 columns]"
      ]
     },
     "execution_count": 8,
     "metadata": {},
     "output_type": "execute_result"
    }
   ],
   "source": [
    "p_data"
   ]
  },
  {
   "cell_type": "markdown",
   "id": "e931691d",
   "metadata": {},
   "source": [
    "# 2. 텍스트 전처리\n",
    "## 2-1. 정제&정규화"
   ]
  },
  {
   "cell_type": "code",
   "execution_count": 14,
   "id": "70fa2dba",
   "metadata": {},
   "outputs": [
    {
     "name": "stderr",
     "output_type": "stream",
     "text": [
      "C:\\Users\\JSWonner\\AppData\\Local\\Temp/ipykernel_7304/4023423763.py:4: FutureWarning: The default value of regex will change from True to False in a future version.\n",
      "  p_data['document']=p_data.document.str.replace('[^ㄱ-ㅎㅏ-ㅣ가-힣 ]','')\n",
      "C:\\Users\\JSWonner\\AppData\\Local\\Temp/ipykernel_7304/4023423763.py:6: FutureWarning: The default value of regex will change from True to False in a future version.\n",
      "  p_data['document']=p_data.document.str.replace('^ +','')\n"
     ]
    }
   ],
   "source": [
    "#1. 중복제거\n",
    "p_data=p_data.drop_duplicates(subset=['document'])\n",
    "#2. 한글, 공백 외 문자 제거\n",
    "p_data['document']=p_data.document.str.replace('[^ㄱ-ㅎㅏ-ㅣ가-힣 ]','')\n",
    "#3. 여러 공백은 하나의 공백으로\n",
    "p_data['document']=p_data.document.str.replace('^ +','')\n",
    "#4. 하나의 공백은 NaN처리\n",
    "p_data['document'] = p_data.document.replace('',np.nan)\n",
    "#5. NaN가 있는 document값은 삭제\n",
    "p_data= p_data.dropna(how='any')\n",
    "s_w = ['은','는','이','가','를','에게','의','을','도','으로','만','라서','하다']\n"
   ]
  },
  {
   "cell_type": "code",
   "execution_count": 16,
   "id": "ea940dbc",
   "metadata": {},
   "outputs": [
    {
     "data": {
      "text/plain": [
       "pandas.core.series.Series"
      ]
     },
     "execution_count": 16,
     "metadata": {},
     "output_type": "execute_result"
    }
   ],
   "source": [
    "type(p_data.document)"
   ]
  },
  {
   "cell_type": "code",
   "execution_count": null,
   "id": "7174610f",
   "metadata": {},
   "outputs": [],
   "source": []
  },
  {
   "cell_type": "markdown",
   "id": "f330476d",
   "metadata": {},
   "source": [
    "okt = Okt()\n",
    "from tqdm import tqdm\n",
    "X_data = [] #토큰화된 문서\n",
    "for sent in tqdm(p_data.document):\n",
    "    tk_d = okt.morphs(sent)\n",
    "    end_d = [w for w in tk_d if w not in s_w]\n",
    "    X_data.append(end_d)\n",
    "X_data"
   ]
  },
  {
   "cell_type": "code",
   "execution_count": 22,
   "id": "2ac04c29",
   "metadata": {},
   "outputs": [
    {
     "data": {
      "text/plain": [
       "pandas.core.series.Series"
      ]
     },
     "execution_count": 22,
     "metadata": {},
     "output_type": "execute_result"
    }
   ],
   "source": [
    "type(p_data.label)"
   ]
  },
  {
   "cell_type": "code",
   "execution_count": 24,
   "id": "ac3a70e7",
   "metadata": {},
   "outputs": [],
   "source": [
    "tk=Tokenizer() #케라스 토크나이자. 이미 토큰화가 완료된 문서\n",
    "tk.fit_on_texts(X_data) #단어 사전 생성\n",
    "y_train = np.array(p_data.label)"
   ]
  },
  {
   "cell_type": "code",
   "execution_count": 25,
   "id": "6fb55a21",
   "metadata": {},
   "outputs": [],
   "source": [
    "X_train= tk.texts_to_sequences(X_data) #단어 인덱스로 인코딩(벡터화)"
   ]
  },
  {
   "cell_type": "code",
   "execution_count": 26,
   "id": "9ab4adc7",
   "metadata": {},
   "outputs": [],
   "source": [
    "#인코딩된 문장에 단어가 하나도 없다면 그 행을 추출\n",
    "drop_train=[index for index,sent in enumerate(X_train) if len(sent)<1]"
   ]
  },
  {
   "cell_type": "code",
   "execution_count": 30,
   "id": "007666ce",
   "metadata": {},
   "outputs": [],
   "source": [
    "#의미가 없는 공백 행 삭제\n",
    "X_train = np.delete(X_train,drop_train,axis=0) #높은 차원 축\n",
    "y_train = np.delete(y_train,drop_train,axis=0)"
   ]
  },
  {
   "cell_type": "code",
   "execution_count": null,
   "id": "91b3b392",
   "metadata": {},
   "outputs": [],
   "source": []
  }
 ],
 "metadata": {
  "kernelspec": {
   "display_name": "Python 3 (ipykernel)",
   "language": "python",
   "name": "python3"
  },
  "language_info": {
   "codemirror_mode": {
    "name": "ipython",
    "version": 3
   },
   "file_extension": ".py",
   "mimetype": "text/x-python",
   "name": "python",
   "nbconvert_exporter": "python",
   "pygments_lexer": "ipython3",
   "version": "3.9.7"
  }
 },
 "nbformat": 4,
 "nbformat_minor": 5
}
